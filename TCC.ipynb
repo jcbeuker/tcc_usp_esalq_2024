{
 "cells": [
  {
   "cell_type": "markdown",
   "metadata": {},
   "source": [
    "# Passo-a-passo"
   ]
  },
  {
   "cell_type": "code",
   "execution_count": null,
   "metadata": {},
   "outputs": [],
   "source": [
    "# Importar bibliotecas utilizadas\n",
    "import pandas as pd\n",
    "\n",
    "import numpy as np\n",
    "\n",
    "import seaborn as sns\n",
    "\n",
    "from sklearn.feature_extraction.text import CountVectorizer\n",
    "\n",
    "# Regular expression\n",
    "import re\n",
    "\n",
    "from wordcloud import WordCloud\n",
    "\n",
    "import matplotlib.pyplot as plt\n",
    "\n",
    "# TF-IDF\n",
    "from sklearn.feature_extraction.text import TfidfVectorizer\n",
    "\n",
    "from sklearn.model_selection import train_test_split\n",
    "\n",
    "from sklearn.linear_model import LogisticRegression\n",
    "\n",
    "from nltk import ngrams"
   ]
  },
  {
   "cell_type": "code",
   "execution_count": null,
   "metadata": {},
   "outputs": [],
   "source": [
    "# Set of predefined words NLTK (Natural Language Toolkit)\n",
    "import nltk \n",
    "\n",
    "#nltk.download('all')\n",
    "\n",
    "from nltk.corpus import stopwords \n",
    "\n",
    "set(stopwords.words('english'))\n",
    "\n",
    "from nltk.tokenize import word_tokenize \n",
    "\n",
    "\n",
    "#from nltk.stem.snowball import SnowballStemmer\n",
    "from nltk.stem.wordnet import WordNetLemmatizer\n",
    "\n",
    "from nltk.stem import PorterStemmer\n",
    "\n",
    "porter = PorterStemmer()\n",
    "w_tokenizer = nltk.tokenize.WhitespaceTokenizer()\n",
    "lemmatizer = nltk.stem.WordNetLemmatizer()\n",
    "\n",
    "\n",
    "#print(stopwords.words('english'))"
   ]
  },
  {
   "cell_type": "code",
   "execution_count": null,
   "metadata": {},
   "outputs": [],
   "source": [
    "# Coleta dados\n",
    "catalogoVulnerabilidades = pd.read_csv('dados/known_exploited_vulnerabilities.csv', header=0, sep=',')\n",
    "\n",
    "# Criar coluna booleana state com 0 para Unknown e 1 para Known\n",
    "catalogoVulnerabilidades['codigoKnownRansomwareCampaignUse'] = np.where(catalogoVulnerabilidades['knownRansomwareCampaignUse'] == 'Known', 1, 0 )\n",
    "\n",
    "#Reordenando as colunas\n",
    "catalogoVulnerabilidades = catalogoVulnerabilidades[['cveID',\n",
    "                                                     'vendorProject',\n",
    "                                                     'product',\n",
    "                                                     'vulnerabilityName',\n",
    "                                                     'dateAdded',\n",
    "                                                     'shortDescription',\n",
    "                                                     'requiredAction',\n",
    "                                                     'dueDate',\n",
    "                                                     'knownRansomwareCampaignUse',\n",
    "                                                     'codigoKnownRansomwareCampaignUse',\n",
    "                                                     'notes']]    \n",
    "\n"
   ]
  },
  {
   "cell_type": "code",
   "execution_count": null,
   "metadata": {},
   "outputs": [],
   "source": [
    "# Verificar tipos de colunas\n",
    "catalogoVulnerabilidades.info()"
   ]
  },
  {
   "cell_type": "code",
   "execution_count": null,
   "metadata": {},
   "outputs": [],
   "source": [
    "# Excluir a coluna notes\n",
    "catalogoVulnerabilidades.drop(columns=['cveID', 'notes'], inplace = True)"
   ]
  },
  {
   "cell_type": "code",
   "execution_count": null,
   "metadata": {},
   "outputs": [],
   "source": [
    "# Verificar alguns dados\n",
    "display(catalogoVulnerabilidades)"
   ]
  },
  {
   "cell_type": "code",
   "execution_count": null,
   "metadata": {},
   "outputs": [],
   "source": [
    "# Transformar tipos de dados\n",
    "catalogoVulnerabilidades.dateAdded = pd.to_datetime(catalogoVulnerabilidades.dateAdded)\n",
    "catalogoVulnerabilidades.dueDate = pd.to_datetime(catalogoVulnerabilidades.dueDate)\n",
    "##Tranforma a coluna codigoKnownRansomwareCampaignUse para boolean\n",
    "catalogoVulnerabilidades['codigoKnownRansomwareCampaignUse'] = catalogoVulnerabilidades['codigoKnownRansomwareCampaignUse'].astype('bool')\n",
    "##Transforma colunas em string\n",
    "catalogoVulnerabilidades['shortDescription'] = catalogoVulnerabilidades['shortDescription'].astype('string')"
   ]
  },
  {
   "cell_type": "code",
   "execution_count": null,
   "metadata": {},
   "outputs": [],
   "source": [
    "# Verificar tipos de colunas após transformação\n",
    "catalogoVulnerabilidades.info()"
   ]
  },
  {
   "cell_type": "code",
   "execution_count": null,
   "metadata": {},
   "outputs": [],
   "source": [
    "# Antes de limpar coluna\n",
    "catalogoVulnerabilidades.shortDescription"
   ]
  },
  {
   "cell_type": "code",
   "execution_count": null,
   "metadata": {},
   "outputs": [],
   "source": [
    "# Função para limpar os textos das colunas do dataframe\n",
    "def limpa_coluna(corpus):\n",
    "    return re.sub(r'[^a-zA-Z0-9\\s]', '', corpus)"
   ]
  },
  {
   "cell_type": "code",
   "execution_count": null,
   "metadata": {},
   "outputs": [],
   "source": [
    "# Limpa a coluna \n",
    "pd_catalogoVulnerabilidades = pd.DataFrame(catalogoVulnerabilidades)\n",
    "pd_catalogoVulnerabilidades['shortDescription'] = catalogoVulnerabilidades['shortDescription'].apply(lambda x: limpa_coluna(str(x)))\n",
    "pd_catalogoVulnerabilidades.shortDescription"
   ]
  },
  {
   "cell_type": "code",
   "execution_count": null,
   "metadata": {},
   "outputs": [],
   "source": [
    "# Realiza a tokenização palavra por palavra \n",
    "tokens_contagem = ' '.join([word for word in pd_catalogoVulnerabilidades.shortDescription])\n",
    "\n",
    "tokens_contagem = word_tokenize(tokens_contagem)\n",
    "\n",
    "tokens_frequencia = nltk.FreqDist(tokens_contagem)\n",
    "\n",
    "df_frequencia_tk = pd.DataFrame({\"token\": list(tokens_frequencia.keys()),\n",
    "                                 \"frequencia\": list(tokens_frequencia.values())})\n",
    "\n",
    "\n",
    "df_frequencia_tk.nlargest(columns = \"frequencia\", n = 10)"
   ]
  },
  {
   "cell_type": "code",
   "execution_count": null,
   "metadata": {},
   "outputs": [],
   "source": [
    "# Gráfico de Pareto antes de remover stop words\n",
    "plt.figure(figsize=(10, 6))\n",
    "x = sns.barplot(data = df_frequencia_tk.nlargest(columns = \"frequencia\", n = 10), x = \"token\", y = \"frequencia\", color = 'purple')\n",
    "x.set(ylabel = \"Quantidade\", xlabel = \"Tokens\", title = 'Contendo stop words')\n",
    "plt.show()\n"
   ]
  },
  {
   "cell_type": "code",
   "execution_count": null,
   "metadata": {},
   "outputs": [],
   "source": [
    "# Função remover stop words\n",
    "def remove_stop_words(word_list, stop_word_list):\n",
    "    lista_sem_stop_words = [word for word in word_list \n",
    "                            if word.lower() not in stop_word_list]\n",
    "    return lista_sem_stop_words"
   ]
  },
  {
   "cell_type": "code",
   "execution_count": null,
   "metadata": {},
   "outputs": [],
   "source": [
    "# Carrega lista de stop words do inglês\n",
    "sw_vulnerabilidade_ciberneticas = [\"could\", \"vulnerability\"] # Ver quais stop words adicionar\n",
    "sw_en = list(set(stopwords.words('english')))\n",
    "sw_en_plus = sw_en + sw_vulnerabilidade_ciberneticas\n",
    "tokens_sem_stop_words = remove_stop_words(tokens_contagem, sw_en_plus)"
   ]
  },
  {
   "cell_type": "code",
   "execution_count": null,
   "metadata": {},
   "outputs": [],
   "source": [
    "# Cria DataFrame sem stop words\n",
    "\n",
    "tokens_sem_stop_words_frequencia = nltk.FreqDist(tokens_sem_stop_words)\n",
    "\n",
    "df_sem_stop_words_frequencia = pd.DataFrame({\"token\": list(tokens_sem_stop_words_frequencia.keys()),\n",
    "                                 \"frequencia\": list(tokens_sem_stop_words_frequencia.values())})\n",
    "\n",
    "\n",
    "df_sem_stop_words_frequencia.nlargest(columns = \"frequencia\", n = 10)"
   ]
  },
  {
   "cell_type": "code",
   "execution_count": null,
   "metadata": {},
   "outputs": [],
   "source": [
    "# Gráfico de Pareto depois de remover stop words\n",
    "plt.figure(figsize=(10, 6))\n",
    "x = sns.barplot(data = df_sem_stop_words_frequencia.nlargest(columns = \"frequencia\", n = 10), x = \"token\", y = \"frequencia\", color = 'blue')\n",
    "x.set(ylabel = \"Quantidade\", xlabel = \"Tokens\", title = 'Sem stop words')\n",
    "plt.show()\n"
   ]
  },
  {
   "cell_type": "code",
   "execution_count": null,
   "metadata": {},
   "outputs": [],
   "source": [
    "# Função de Stemming\n",
    "def stemming (texto):\n",
    "    stemmings = [porter.stem(word) for word in word_tokenize(texto)]\n",
    "    return ' '.join(stemmings)"
   ]
  },
  {
   "cell_type": "code",
   "execution_count": null,
   "metadata": {},
   "outputs": [],
   "source": [
    "# Aplicando Stemming\n",
    "pd_catalogoVulnerabilidades_stemming = pd_catalogoVulnerabilidades.copy()\n",
    "pd_catalogoVulnerabilidades_stemming['shortDescription'] = pd_catalogoVulnerabilidades_stemming['shortDescription'].apply(lambda x: stemming(str(x)))\n",
    "pd_catalogoVulnerabilidades_stemming.shortDescription"
   ]
  },
  {
   "cell_type": "code",
   "execution_count": null,
   "metadata": {},
   "outputs": [],
   "source": [
    "# Cria DataFrame com stemming\n",
    "\n",
    "stemming_contagem = ' '.join([word for word in pd_catalogoVulnerabilidades_stemming.shortDescription])\n",
    "\n",
    "stemming_contagem = word_tokenize(stemming_contagem)\n",
    "\n",
    "stemming_contagem = remove_stop_words(stemming_contagem, sw_en_plus)\n",
    "\n",
    "stemming_frequencia = nltk.FreqDist(stemming_contagem)\n",
    "\n",
    "df_frequencia_stemming = pd.DataFrame({\"token\": list(stemming_frequencia.keys()),\n",
    "                                 \"frequencia\": list(stemming_frequencia.values())})\n",
    "\n",
    "\n",
    "df_frequencia_stemming.nlargest(columns = \"frequencia\", n = 10)"
   ]
  },
  {
   "cell_type": "code",
   "execution_count": null,
   "metadata": {},
   "outputs": [],
   "source": [
    "# Gráfico de Pareto depois do stemming\n",
    "plt.figure(figsize=(10, 6))\n",
    "x = sns.barplot(data = df_frequencia_stemming.nlargest(columns = \"frequencia\", n = 10), x = \"token\", y = \"frequencia\", color = 'yellow')\n",
    "x.set(ylabel = \"Quantidade\", xlabel = \"Tokens\", title = 'Stemming')\n",
    "plt.show()\n"
   ]
  },
  {
   "cell_type": "code",
   "execution_count": null,
   "metadata": {},
   "outputs": [],
   "source": [
    "# Função de Lematização\n",
    "def lematizacao (texto):\n",
    "    lemas = [lemmatizer.lemmatize(word) for word in word_tokenize(texto)]\n",
    "    return ' '.join(lemas)"
   ]
  },
  {
   "cell_type": "code",
   "execution_count": null,
   "metadata": {},
   "outputs": [],
   "source": [
    "# Aplicando Lemmatization\n",
    "pd_catalogoVulnerabilidades_lemmatization = pd_catalogoVulnerabilidades.copy()\n",
    "pd_catalogoVulnerabilidades_lemmatization['shortDescription'] = pd_catalogoVulnerabilidades_lemmatization['shortDescription'].apply(lambda x: lematizacao(str(x)))\n",
    "pd_catalogoVulnerabilidades_lemmatization.shortDescription"
   ]
  },
  {
   "cell_type": "code",
   "execution_count": null,
   "metadata": {},
   "outputs": [],
   "source": [
    "# Cria DataFrame com Lemmatization\n",
    "\n",
    "lemmatization_contagem = ' '.join([word for word in pd_catalogoVulnerabilidades_lemmatization.shortDescription])\n",
    "\n",
    "lemmatization_contagem = word_tokenize(lemmatization_contagem)\n",
    "\n",
    "lemmatization_contagem = remove_stop_words(lemmatization_contagem, sw_en_plus)\n",
    "\n",
    "lemmatization_frequencia = nltk.FreqDist(lemmatization_contagem)\n",
    "\n",
    "df_frequencia_lemmatization = pd.DataFrame({\"token\": list(lemmatization_frequencia.keys()),\n",
    "                                 \"frequencia\": list(lemmatization_frequencia.values())})\n",
    "\n",
    "\n",
    "df_frequencia_lemmatization.nlargest(columns = \"frequencia\", n = 10)"
   ]
  },
  {
   "cell_type": "code",
   "execution_count": null,
   "metadata": {},
   "outputs": [],
   "source": [
    "# Gráfico de Pareto depois do Lemmatization\n",
    "plt.figure(figsize=(10, 6))\n",
    "x = sns.barplot(data = df_frequencia_lemmatization.nlargest(columns = \"frequencia\", n = 10), x = \"token\", y = \"frequencia\", color = 'green')\n",
    "x.set(ylabel = \"Quantidade\", xlabel = \"Tokens\", title = 'Lemmatization')\n",
    "plt.show()\n"
   ]
  },
  {
   "cell_type": "code",
   "execution_count": null,
   "metadata": {},
   "outputs": [],
   "source": [
    "# Vetorizar coluna\n",
    "vetorizar = CountVectorizer(lowercase = False, max_features=100)\n",
    "bow = vetorizar.fit_transform(catalogoVulnerabilidades.shortDescription)\n",
    "\n",
    "print(bow.shape)"
   ]
  },
  {
   "cell_type": "code",
   "execution_count": null,
   "metadata": {},
   "outputs": [],
   "source": [
    "# Tranforma matriz esparsa em Dataframe\n",
    "df_shortDescription_bow = pd.DataFrame.sparse.from_spmatrix(bow, columns=vetorizar.get_feature_names_out())\n",
    "\n",
    "df_shortDescription_bow.head()"
   ]
  },
  {
   "cell_type": "code",
   "execution_count": null,
   "metadata": {},
   "outputs": [],
   "source": [
    "# Wordcloud\n",
    "shortDescription_all_words = ' '.join([word for word in pd_catalogoVulnerabilidades.shortDescription])\n",
    "\n",
    "# Quantidade de palavras\n",
    "print(len(shortDescription_all_words))"
   ]
  },
  {
   "cell_type": "code",
   "execution_count": null,
   "metadata": {},
   "outputs": [],
   "source": [
    "# Gerar wordcloud\n",
    "\n",
    "## https://amueller.github.io/word_cloud/generated/wordcloud.WordCloud.html\n",
    "\n",
    "shortDescription_wc = WordCloud(width= 800, height= 500, max_font_size = 110, collocations=False).generate(shortDescription_all_words)"
   ]
  },
  {
   "cell_type": "code",
   "execution_count": null,
   "metadata": {},
   "outputs": [],
   "source": [
    "# Plotar wordcloud\n",
    "plt.figure(figsize=(10, 6))\n",
    "plt.imshow(shortDescription_wc, interpolation='bilinear') #ver outras interpolações\n",
    "plt.axis(\"off\")\n",
    "plt.show()"
   ]
  },
  {
   "cell_type": "code",
   "execution_count": null,
   "metadata": {},
   "outputs": [],
   "source": [
    "# TF-IDF\n",
    "tfidf = TfidfVectorizer(lowercase = False, max_features=100)\n",
    "regressao_logistica = LogisticRegression(solver = \"lbfgs\")\n",
    "\n",
    "catalogoVulnerabilidades_tfidf_bruto = tfidf.fit_transform(pd_catalogoVulnerabilidades['shortDescription'])\n",
    "\n",
    "catalogoVulnerabilidades_treino, catalogoVulnerabilidades_teste, catalogoVulnerabilidades_classe_treino, catalogoVulnerabilidades_classe_teste = train_test_split(catalogoVulnerabilidades_tfidf_bruto,\n",
    "                                                                                                                                                                  pd_catalogoVulnerabilidades['knownRansomwareCampaignUse'], random_state = 42)\n",
    "\n",
    "regressao_logistica.fit(catalogoVulnerabilidades_treino, catalogoVulnerabilidades_classe_treino)\n",
    "\n",
    "acuracia_catalogoVulnerabilidades_tfidf_bruto = regressao_logistica.score(catalogoVulnerabilidades_teste, catalogoVulnerabilidades_classe_teste)\n",
    "\n",
    "print(acuracia_catalogoVulnerabilidades_tfidf_bruto)"
   ]
  },
  {
   "cell_type": "code",
   "execution_count": null,
   "metadata": {},
   "outputs": [],
   "source": [
    "# Ngrams\n",
    "tfidf = TfidfVectorizer(lowercase=False, ngram_range=(1,2))\n",
    "catalogoVulnerabilidades_vetor_tfidf = tfidf.fit_transform(pd_catalogoVulnerabilidades['shortDescription'])\n",
    "\n",
    "catalogoVulnerabilidades_vetor_tfidf_treino, catalogoVulnerabilidades_vetor_tfidf_teste, catalogoVulnerabilidades_vetor_tfidf_classe_treino, catalogoVulnerabilidades_vetor_tfidf_classe_teste = train_test_split(catalogoVulnerabilidades_vetor_tfidf,\n",
    "                                                                                                                                                                  pd_catalogoVulnerabilidades['knownRansomwareCampaignUse'], random_state = 42)\n",
    "\n",
    "regressao_logistica.fit(catalogoVulnerabilidades_vetor_tfidf_treino, catalogoVulnerabilidades_vetor_tfidf_classe_treino)\n",
    "\n",
    "acuracia_catalogoVulnerabilidades_vetor_tfidf_ngrams = regressao_logistica.score(catalogoVulnerabilidades_vetor_tfidf_teste, catalogoVulnerabilidades_vetor_tfidf_classe_teste)\n",
    "\n",
    "print(acuracia_catalogoVulnerabilidades_vetor_tfidf_ngrams)"
   ]
  },
  {
   "cell_type": "code",
   "execution_count": null,
   "metadata": {},
   "outputs": [],
   "source": [
    "# Pesos de cada termo\n",
    "pesos_termo = pd.DataFrame(\n",
    "    regressao_logistica.coef_[0].T,\n",
    "    index = tfidf.get_feature_names_out()\n",
    ")\n",
    "\n",
    "pesos_termo.nlargest(10, 0)"
   ]
  }
 ],
 "metadata": {
  "kernelspec": {
   "display_name": "base",
   "language": "python",
   "name": "python3"
  },
  "language_info": {
   "codemirror_mode": {
    "name": "ipython",
    "version": 3
   },
   "file_extension": ".py",
   "mimetype": "text/x-python",
   "name": "python",
   "nbconvert_exporter": "python",
   "pygments_lexer": "ipython3",
   "version": "3.11.3"
  }
 },
 "nbformat": 4,
 "nbformat_minor": 2
}
